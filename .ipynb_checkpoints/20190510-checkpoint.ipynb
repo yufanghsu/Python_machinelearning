{
 "cells": [
  {
   "cell_type": "markdown",
   "metadata": {},
   "source": [
    "# 用 CNN 做圖形辨識"
   ]
  },
  {
   "cell_type": "code",
   "execution_count": 32,
   "metadata": {},
   "outputs": [
    {
     "name": "stdout",
     "output_type": "stream",
     "text": [
      "env: KERAS_BACKEND=tensorflow\n"
     ]
    }
   ],
   "source": [
    "%env KERAS_BACKEND=tensorflow\n",
    "%matplotlib inline\n",
    "import numpy as np\n",
    "import matplotlib.pyplot as plt\n",
    "\n",
    "#讀入 MNIST\n",
    "from keras.datasets import mnist\n",
    "from keras.utils import np_utils\n",
    "\n",
    "#讀入 keras\n",
    "from keras.models import Sequential\n",
    "from keras.layers import Dense, Activation, Flatten\n",
    "from keras.layers import Conv2D, MaxPool2D\n",
    "from keras.optimizers import SGD"
   ]
  },
  {
   "cell_type": "markdown",
   "metadata": {},
   "source": [
    "### 匯入資料"
   ]
  },
  {
   "cell_type": "code",
   "execution_count": 33,
   "metadata": {},
   "outputs": [],
   "source": [
    "(x_train, y_train), (x_test, y_test) = mnist.load_data()\n",
    "x_train = x_train.reshape(60000, 28, 28, 1)                  # CNN 要的是 (28, 28, 1)\n",
    "x_test = x_test.reshape(10000, 28, 28, 1)\n",
    "x_train[1234].shape\n",
    "y_train = np_utils.to_categorical(y_train, 10)\n",
    "y_test = np_utils.to_categorical(y_test, 10)\n",
    "x_train = x_train/255\n",
    "x_test = x_test/255"
   ]
  },
  {
   "cell_type": "markdown",
   "metadata": {},
   "source": [
    "### 建構神經網路"
   ]
  },
  {
   "cell_type": "code",
   "execution_count": 58,
   "metadata": {},
   "outputs": [],
   "source": [
    "### Convolution\n",
    "# 做三次Convolution，filters 數分別是 4, 8, 16；filter 大小都是 4x4，max-pooling 都用 2x2 為一小區塊\n",
    "\n",
    "model = Sequential()\n",
    "#第一次\n",
    "model.add(Conv2D(8, (4, 4), padding='same', input_shape=(28, 28, 1)))\n",
    "model.add(Activation('relu'))\n",
    "model.add(MaxPool2D(pool_size=(2,2)))\n",
    "\n",
    "#第二次\n",
    "model.add(Conv2D(16, (4, 4), padding='same'))\n",
    "model.add(Activation('relu'))\n",
    "model.add(MaxPool2D(pool_size=(2,2)))\n",
    "\n",
    "#第三次\n",
    "model.add(Conv2D(32, (4, 4), padding='same'))\n",
    "model.add(Activation('relu'))\n",
    "model.add(MaxPool2D(pool_size=(2,2)))\n",
    "\n",
    "model.add(Flatten())            ##拉平\n",
    "model.add(Dense(9))\n",
    "model.add(Activation('relu'))\n",
    "model.add(Dense(10))\n",
    "model.add(Activation('softmax'))"
   ]
  },
  {
   "cell_type": "markdown",
   "metadata": {},
   "source": [
    "### 建構神經網路"
   ]
  },
  {
   "cell_type": "code",
   "execution_count": 60,
   "metadata": {},
   "outputs": [
    {
     "name": "stdout",
     "output_type": "stream",
     "text": [
      "_________________________________________________________________\n",
      "Layer (type)                 Output Shape              Param #   \n",
      "=================================================================\n",
      "conv2d_22 (Conv2D)           (None, 28, 28, 8)         136       \n",
      "_________________________________________________________________\n",
      "activation_36 (Activation)   (None, 28, 28, 8)         0         \n",
      "_________________________________________________________________\n",
      "max_pooling2d_22 (MaxPooling (None, 14, 14, 8)         0         \n",
      "_________________________________________________________________\n",
      "conv2d_23 (Conv2D)           (None, 14, 14, 16)        2064      \n",
      "_________________________________________________________________\n",
      "activation_37 (Activation)   (None, 14, 14, 16)        0         \n",
      "_________________________________________________________________\n",
      "max_pooling2d_23 (MaxPooling (None, 7, 7, 16)          0         \n",
      "_________________________________________________________________\n",
      "conv2d_24 (Conv2D)           (None, 7, 7, 32)          8224      \n",
      "_________________________________________________________________\n",
      "activation_38 (Activation)   (None, 7, 7, 32)          0         \n",
      "_________________________________________________________________\n",
      "max_pooling2d_24 (MaxPooling (None, 3, 3, 32)          0         \n",
      "_________________________________________________________________\n",
      "flatten_8 (Flatten)          (None, 288)               0         \n",
      "_________________________________________________________________\n",
      "dense_15 (Dense)             (None, 9)                 2601      \n",
      "_________________________________________________________________\n",
      "activation_39 (Activation)   (None, 9)                 0         \n",
      "_________________________________________________________________\n",
      "dense_16 (Dense)             (None, 10)                100       \n",
      "_________________________________________________________________\n",
      "activation_40 (Activation)   (None, 10)                0         \n",
      "=================================================================\n",
      "Total params: 13,125\n",
      "Trainable params: 13,125\n",
      "Non-trainable params: 0\n",
      "_________________________________________________________________\n"
     ]
    }
   ],
   "source": [
    "model.compile(loss='mse', optimizer=SGD(lr=0.07), metrics=['accuracy'])\n",
    "model.summary()              \n",
    "# 4*4*8+8*1=136"
   ]
  },
  {
   "cell_type": "code",
   "execution_count": 61,
   "metadata": {},
   "outputs": [
    {
     "name": "stdout",
     "output_type": "stream",
     "text": [
      "Train on 48000 samples, validate on 12000 samples\n",
      "Epoch 1/10\n",
      "48000/48000 [==============================] - 19s 404us/step - loss: 0.9143 - acc: 0.7066 - val_loss: 0.3518 - val_acc: 0.8493\n",
      "Epoch 2/10\n",
      "48000/48000 [==============================] - 18s 378us/step - loss: 0.1999 - acc: 0.9363 - val_loss: 0.1193 - val_acc: 0.9643\n",
      "Epoch 3/10\n",
      "48000/48000 [==============================] - 18s 380us/step - loss: 0.1129 - acc: 0.9662 - val_loss: 0.0965 - val_acc: 0.9710\n",
      "Epoch 4/10\n",
      "48000/48000 [==============================] - 18s 381us/step - loss: 0.0855 - acc: 0.9740 - val_loss: 0.0917 - val_acc: 0.9724\n",
      "Epoch 5/10\n",
      "48000/48000 [==============================] - 19s 389us/step - loss: 0.0713 - acc: 0.9779 - val_loss: 0.0721 - val_acc: 0.9778\n",
      "Epoch 6/10\n",
      "48000/48000 [==============================] - 19s 400us/step - loss: 0.0615 - acc: 0.9813 - val_loss: 0.0717 - val_acc: 0.9784\n",
      "Epoch 7/10\n",
      "48000/48000 [==============================] - 19s 404us/step - loss: 0.0513 - acc: 0.9848 - val_loss: 0.0645 - val_acc: 0.9798\n",
      "Epoch 8/10\n",
      "48000/48000 [==============================] - 20s 417us/step - loss: 0.0480 - acc: 0.9855 - val_loss: 0.0564 - val_acc: 0.9846\n",
      "Epoch 9/10\n",
      "48000/48000 [==============================] - 18s 382us/step - loss: 0.0412 - acc: 0.9871 - val_loss: 0.0603 - val_acc: 0.9819\n",
      "Epoch 10/10\n",
      "48000/48000 [==============================] - 19s 392us/step - loss: 0.0376 - acc: 0.9879 - val_loss: 0.0487 - val_acc: 0.9855\n"
     ]
    }
   ],
   "source": [
    "model.compile(loss='categorical_crossentropy', optimizer='adam', metrics=['accuracy'])\n",
    "modelfit=model.fit(x_train, y_train, batch_size=128, epochs=10,validation_split=0.2)              ###training model"
   ]
  },
  {
   "cell_type": "markdown",
   "metadata": {},
   "source": [
    "### 查看結果"
   ]
  },
  {
   "cell_type": "code",
   "execution_count": 62,
   "metadata": {},
   "outputs": [
    {
     "name": "stdout",
     "output_type": "stream",
     "text": [
      "10000/10000 [==============================] - 1s 115us/step\n",
      "loss: 0.03944900692440569 acc: 0.986299991607666\n"
     ]
    }
   ],
   "source": [
    "score_fork = model.evaluate(x_test, y_test, batch_size=1000)\n",
    "print('loss:',score_fork[0],'acc:',score_fork[1] )\n"
   ]
  },
  {
   "cell_type": "code",
   "execution_count": 63,
   "metadata": {},
   "outputs": [],
   "source": [
    "model.save('myCNNmodel.h5')      #save model "
   ]
  },
  {
   "cell_type": "code",
   "execution_count": 64,
   "metadata": {},
   "outputs": [],
   "source": [
    "from keras.models import load_model\n",
    "mod = load_model('myCNNmodel.h5')"
   ]
  },
  {
   "cell_type": "code",
   "execution_count": 65,
   "metadata": {},
   "outputs": [
    {
     "data": {
      "image/png": "[encoded data removed]",
      "text/plain": [
       "<Figure size 432x288 with 10 Axes>"
      ]
     },
     "metadata": {
      "needs_background": "light"
     },
     "output_type": "display_data"
    }
   ],
   "source": [
    "del modelfit\n",
    "predict = mod.predict_classes(x_test)\n",
    "pick = np.random.randint(1,9999, 10)\n",
    "\n",
    "for i in range(10):\n",
    "    plt.subplot(1,10,i+1)\n",
    "    plt.imshow(x_test[pick[i]].reshape(28,28), cmap='Greys')\n",
    "    plt.title(predict[pick[i]])\n",
    "    plt.axis(\"off\")"
   ]
  },
  {
   "cell_type": "markdown",
   "metadata": {},
   "source": [
    "結論：\n",
    "(1) 這次的訓練結果可讓準確率高達98%。\n",
    "(2) 增加filter數可以讓準確性提高。"
   ]
  },
  {
   "cell_type": "code",
   "execution_count": null,
   "metadata": {},
   "outputs": [],
   "source": []
  }
 ],
 "metadata": {
  "kernelspec": {
   "display_name": "Python 3",
   "language": "python",
   "name": "python3"
  },
  "language_info": {
   "codemirror_mode": {
    "name": "ipython",
    "version": 3
   },
   "file_extension": ".py",
   "mimetype": "text/x-python",
   "name": "python",
   "nbconvert_exporter": "python",
   "pygments_lexer": "ipython3",
   "version": "3.7.0"
  }
 },
 "nbformat": 4,
 "nbformat_minor": 2
}
