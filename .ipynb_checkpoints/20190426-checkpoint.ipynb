{
 "cells": [
  {
   "cell_type": "markdown",
   "metadata": {},
   "source": [
    "# 神經網路辨別數字圖檔"
   ]
  },
  {
   "cell_type": "code",
   "execution_count": 6,
   "metadata": {},
   "outputs": [
    {
     "name": "stdout",
     "output_type": "stream",
     "text": [
      "env: KERAS_BACKEND=tensorflow\n"
     ]
    },
    {
     "name": "stderr",
     "output_type": "stream",
     "text": [
      "Using TensorFlow backend.\n"
     ]
    }
   ],
   "source": [
    "%env KERAS_BACKEND=tensorflow\n",
    "%matplotlib inline\n",
    "import numpy as np\n",
    "import matplotlib.pyplot as plt\n",
    "from keras.datasets import mnist\n",
    "from keras.utils import np_utils\n",
    "from keras.models import Sequential\n",
    "from keras.layers import Dense,Activation\n",
    "from keras.optimizers import SGD"
   ]
  },
  {
   "cell_type": "code",
   "execution_count": 7,
   "metadata": {},
   "outputs": [
    {
     "name": "stdout",
     "output_type": "stream",
     "text": [
      "Downloading data from https://s3.amazonaws.com/img-datasets/mnist.npz\n",
      "11493376/11490434 [==============================] - 17s 1us/step\n"
     ]
    }
   ],
   "source": [
    "from keras.datasets import mnist\n",
    "(x_train, y_train), (x_test, y_test) = mnist.load_data()     #匯入訓練資料"
   ]
  },
  {
   "cell_type": "code",
   "execution_count": 9,
   "metadata": {},
   "outputs": [
    {
     "data": {
      "text/plain": [
       "<matplotlib.image.AxesImage at 0xb30303e80>"
      ]
     },
     "execution_count": 9,
     "metadata": {},
     "output_type": "execute_result"
    },
    {
     "data": {
      "image/png": "[encoded data removed]",
      "text/plain": [
       "<Figure size 432x288 with 1 Axes>"
      ]
     },
     "metadata": {
      "needs_background": "light"
     },
     "output_type": "display_data"
    }
   ],
   "source": [
    "X = x_train[80]\n",
    "plt.imshow(X, cmap = 'Greys')       #顯示圖檔"
   ]
  },
  {
   "cell_type": "code",
   "execution_count": 10,
   "metadata": {},
   "outputs": [
    {
     "data": {
      "text/plain": [
       "array([0., 0., 0., 0., 0., 0., 0., 0., 0., 1.], dtype=float32)"
      ]
     },
     "execution_count": 10,
     "metadata": {},
     "output_type": "execute_result"
    }
   ],
   "source": [
    "###整理格式資料\n",
    "x_train = x_train.reshape(60000, 784)       #784=28*28\n",
    "x_test = x_test.reshape(10000, 784)\n",
    "\n",
    "from keras.utils import np_utils\n",
    "y_train = np_utils.to_categorical(y_train, 10)\n",
    "y_test = np_utils.to_categorical(y_test, 10)\n",
    "\n",
    "y_train[80]                #顯示數字的位置\n"
   ]
  },
  {
   "cell_type": "markdown",
   "metadata": {},
   "source": [
    "## 打造神經網路"
   ]
  },
  {
   "cell_type": "code",
   "execution_count": 11,
   "metadata": {},
   "outputs": [],
   "source": [
    "from keras.models import Sequential\n",
    "from keras.layers import Dense, Activation\n",
    "from keras.optimizers import SGD"
   ]
  },
  {
   "cell_type": "markdown",
   "metadata": {},
   "source": [
    "因為在我的電腦中，老師一開始的訓練結果正確率只有可憐的21%，所以在此將第一層和第二層的隱藏層個數增加至150個。\n",
    "\n",
    "＊曾嘗試著改變學習率，但是發現用一開始的學習率會有比較高的正確率呢。"
   ]
  },
  {
   "cell_type": "code",
   "execution_count": 53,
   "metadata": {},
   "outputs": [
    {
     "name": "stdout",
     "output_type": "stream",
     "text": [
      "_________________________________________________________________\n",
      "Layer (type)                 Output Shape              Param #   \n",
      "=================================================================\n",
      "dense_40 (Dense)             (None, 300)               235500    \n",
      "_________________________________________________________________\n",
      "activation_40 (Activation)   (None, 300)               0         \n",
      "_________________________________________________________________\n",
      "dense_41 (Dense)             (None, 300)               90300     \n",
      "_________________________________________________________________\n",
      "activation_41 (Activation)   (None, 300)               0         \n",
      "_________________________________________________________________\n",
      "dense_42 (Dense)             (None, 10)                3010      \n",
      "_________________________________________________________________\n",
      "activation_42 (Activation)   (None, 10)                0         \n",
      "=================================================================\n",
      "Total params: 328,810\n",
      "Trainable params: 328,810\n",
      "Non-trainable params: 0\n",
      "_________________________________________________________________\n"
     ]
    }
   ],
   "source": [
    "model = Sequential()\n",
    "model.add(Dense(300, input_dim=784))               #第一個隱藏層的個數                 784*300+300=235500\n",
    "model.add(Activation('sigmoid'))\n",
    "model.add(Dense(300))                                     #第二個隱藏層的個數                 300*300+300=90300\n",
    "model.add(Activation('sigmoid'))\n",
    "model.add(Dense(10))                                       #輸出層：0~9  共十個                300*10+10=3010\n",
    "model.add(Activation('softmax'))\n",
    "model.compile(loss='mse', optimizer=SGD(lr=0.087), metrics=['accuracy'])\n",
    "model.summary()"
   ]
  },
  {
   "cell_type": "markdown",
   "metadata": {},
   "source": [
    "將兩層隱藏曾個數分別加到300個過後，正確率已可高達93%，這時再試試看改變訓練個數和訓練次數。\n",
    "這裡將訓練個數和訓練次數增加為150和30。"
   ]
  },
  {
   "cell_type": "code",
   "execution_count": 57,
   "metadata": {},
   "outputs": [
    {
     "name": "stdout",
     "output_type": "stream",
     "text": [
      "Epoch 1/30\n",
      "60000/60000 [==============================] - 2s 31us/step - loss: 0.0092 - acc: 0.9450\n",
      "Epoch 2/30\n",
      "60000/60000 [==============================] - 2s 31us/step - loss: 0.0091 - acc: 0.9454\n",
      "Epoch 3/30\n",
      "60000/60000 [==============================] - 2s 31us/step - loss: 0.0090 - acc: 0.9459\n",
      "Epoch 4/30\n",
      "60000/60000 [==============================] - 2s 32us/step - loss: 0.0089 - acc: 0.9464\n",
      "Epoch 5/30\n",
      "60000/60000 [==============================] - 2s 32us/step - loss: 0.0088 - acc: 0.9468\n",
      "Epoch 6/30\n",
      "60000/60000 [==============================] - 2s 31us/step - loss: 0.0088 - acc: 0.9472\n",
      "Epoch 7/30\n",
      "60000/60000 [==============================] - 2s 32us/step - loss: 0.0087 - acc: 0.9476\n",
      "Epoch 8/30\n",
      "60000/60000 [==============================] - 2s 32us/step - loss: 0.0086 - acc: 0.9480\n",
      "Epoch 9/30\n",
      "60000/60000 [==============================] - 2s 34us/step - loss: 0.0085 - acc: 0.9485\n",
      "Epoch 10/30\n",
      "60000/60000 [==============================] - 2s 34us/step - loss: 0.0085 - acc: 0.9490\n",
      "Epoch 11/30\n",
      "60000/60000 [==============================] - 2s 33us/step - loss: 0.0084 - acc: 0.9495\n",
      "Epoch 12/30\n",
      "60000/60000 [==============================] - 2s 32us/step - loss: 0.0083 - acc: 0.9499\n",
      "Epoch 13/30\n",
      "60000/60000 [==============================] - 2s 32us/step - loss: 0.0082 - acc: 0.9506\n",
      "Epoch 14/30\n",
      "60000/60000 [==============================] - 2s 32us/step - loss: 0.0082 - acc: 0.9508\n",
      "Epoch 15/30\n",
      "60000/60000 [==============================] - 2s 33us/step - loss: 0.0081 - acc: 0.9513\n",
      "Epoch 16/30\n",
      "60000/60000 [==============================] - 2s 34us/step - loss: 0.0080 - acc: 0.9518\n",
      "Epoch 17/30\n",
      "60000/60000 [==============================] - 2s 33us/step - loss: 0.0080 - acc: 0.9523\n",
      "Epoch 18/30\n",
      "60000/60000 [==============================] - 2s 33us/step - loss: 0.0079 - acc: 0.9526\n",
      "Epoch 19/30\n",
      "60000/60000 [==============================] - 2s 33us/step - loss: 0.0078 - acc: 0.9529\n",
      "Epoch 20/30\n",
      "60000/60000 [==============================] - 2s 33us/step - loss: 0.0078 - acc: 0.9532\n",
      "Epoch 21/30\n",
      "60000/60000 [==============================] - 2s 33us/step - loss: 0.0077 - acc: 0.9535\n",
      "Epoch 22/30\n",
      "60000/60000 [==============================] - 2s 33us/step - loss: 0.0077 - acc: 0.9539\n",
      "Epoch 23/30\n",
      "60000/60000 [==============================] - 2s 33us/step - loss: 0.0076 - acc: 0.9542\n",
      "Epoch 24/30\n",
      "60000/60000 [==============================] - 2s 34us/step - loss: 0.0076 - acc: 0.9544\n",
      "Epoch 25/30\n",
      "60000/60000 [==============================] - 2s 35us/step - loss: 0.0075 - acc: 0.9549\n",
      "Epoch 26/30\n",
      "60000/60000 [==============================] - 2s 34us/step - loss: 0.0074 - acc: 0.9551\n",
      "Epoch 27/30\n",
      "60000/60000 [==============================] - 2s 33us/step - loss: 0.0074 - acc: 0.9554\n",
      "Epoch 28/30\n",
      "60000/60000 [==============================] - 2s 33us/step - loss: 0.0073 - acc: 0.9556\n",
      "Epoch 29/30\n",
      "60000/60000 [==============================] - 2s 33us/step - loss: 0.0073 - acc: 0.9559\n",
      "Epoch 30/30\n",
      "60000/60000 [==============================] - 2s 35us/step - loss: 0.0072 - acc: 0.9563\n"
     ]
    },
    {
     "data": {
      "text/plain": [
       "<keras.callbacks.History at 0xb34140438>"
      ]
     },
     "execution_count": 57,
     "metadata": {},
     "output_type": "execute_result"
    }
   ],
   "source": [
    "model.fit(x_train, y_train, batch_size=150, epochs=30)"
   ]
  },
  {
   "cell_type": "markdown",
   "metadata": {},
   "source": [
    "增加訓練次數和個數以後，可以發現正確率已經可以高達96%了，真是令人欣慰。\n",
    "從幾次的試驗來看，影響正確率的因子似乎和隱藏層的個數有很明顯的關係。隱藏層的個數越多，正確率越高。\n",
    "而訓練次數增加雖然也可以提高正確率，但效果仍不及增加隱藏層個數好。\n",
    "此外，學習率的改變對於結果的影響也滿明顯，但也不一定是越小越好。"
   ]
  },
  {
   "cell_type": "markdown",
   "metadata": {},
   "source": [
    "## 辨識結果顯示"
   ]
  },
  {
   "cell_type": "code",
   "execution_count": 58,
   "metadata": {},
   "outputs": [],
   "source": [
    "from ipywidgets import interact_manual\n",
    "predict = model.predict_classes(x_test)\n",
    "def test(測試編號):\n",
    "    plt.imshow(x_test[測試編號].reshape(28,28), cmap='Greys')\n",
    "    print('神經網路判斷為:', predict[測試編號])\n",
    "    "
   ]
  },
  {
   "cell_type": "code",
   "execution_count": 59,
   "metadata": {},
   "outputs": [
    {
     "name": "stdout",
     "output_type": "stream",
     "text": [
      "神經網路判斷為: 7\n"
     ]
    },
    {
     "data": {
      "image/png": "[encoded data removed]",
      "text/plain": [
       "<Figure size 432x288 with 1 Axes>"
      ]
     },
     "metadata": {
      "needs_background": "light"
     },
     "output_type": "display_data"
    }
   ],
   "source": [
    "test(80)"
   ]
  },
  {
   "cell_type": "code",
   "execution_count": 61,
   "metadata": {},
   "outputs": [
    {
     "data": {
      "application/vnd.jupyter.widget-view+json": {
       "model_id": "23cbb82a955e4473a32e97bed6a80fad",
       "version_major": 2,
       "version_minor": 0
      },
      "text/plain": [
       "interactive(children=(IntSlider(value=4999, description='測試編號', max=9999), Button(description='Run Interact', …"
      ]
     },
     "metadata": {},
     "output_type": "display_data"
    },
    {
     "data": {
      "text/plain": [
       "<function __main__.test(測試編號)>"
      ]
     },
     "execution_count": 61,
     "metadata": {},
     "output_type": "execute_result"
    }
   ],
   "source": [
    "\n",
    "interact_manual(test, 測試編號=(0, 9999))\n"
   ]
  },
  {
   "cell_type": "code",
   "execution_count": 62,
   "metadata": {},
   "outputs": [
    {
     "name": "stdout",
     "output_type": "stream",
     "text": [
      "10000/10000 [==============================] - 0s 42us/step\n",
      "loss: 0.010259728379978333\n",
      "正確率 0.9338\n"
     ]
    }
   ],
   "source": [
    "score = model.evaluate(x_test, y_test)\n",
    "print('loss:', score[0])\n",
    "print('正確率', score[1])"
   ]
  },
  {
   "cell_type": "code",
   "execution_count": null,
   "metadata": {},
   "outputs": [],
   "source": []
  }
 ],
 "metadata": {
  "kernelspec": {
   "display_name": "Python 3",
   "language": "python",
   "name": "python3"
  },
  "language_info": {
   "codemirror_mode": {
    "name": "ipython",
    "version": 3
   },
   "file_extension": ".py",
   "mimetype": "text/x-python",
   "name": "python",
   "nbconvert_exporter": "python",
   "pygments_lexer": "ipython3",
   "version": "3.7.0"
  }
 },
 "nbformat": 4,
 "nbformat_minor": 2
}
