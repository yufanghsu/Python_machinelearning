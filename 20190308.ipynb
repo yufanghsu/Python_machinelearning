{
 "cells": [
  {
   "cell_type": "markdown",
   "metadata": {},
   "source": [
    "不專業心理測驗"
   ]
  },
  {
   "cell_type": "code",
   "execution_count": 1,
   "metadata": {},
   "outputs": [
    {
     "name": "stdout",
     "output_type": "stream",
     "text": [
      "以下是個心理測驗。\n",
      "請根據直覺回答以下的問題。\n",
      "你在森林的深處，你向前走，看見前面有一座很舊的小屋。\n",
      "這個小屋的門現在是什麼狀態？。\n"
     ]
    },
    {
     "data": {
      "application/vnd.jupyter.widget-view+json": {
       "model_id": "4983a7d82580426da2f09edae1fed778",
       "version_major": 2,
       "version_minor": 0
      },
      "text/plain": [
       "interactive(children=(Dropdown(description='x', options={'請選擇': '', '開著': '你是願與別人分享任何事的人。', '關著': '你是一個任何事都願一個…"
      ]
     },
     "metadata": {},
     "output_type": "display_data"
    },
    {
     "name": "stdout",
     "output_type": "stream",
     "text": [
      "你走進屋子裡看見桌上有個花瓶，瓶子裡有水，有多少水在花瓶裡？\n"
     ]
    },
    {
     "data": {
      "application/vnd.jupyter.widget-view+json": {
       "model_id": "086638e3bbfb4597b0c7acfe8f867739",
       "version_major": 2,
       "version_minor": 0
      },
      "text/plain": [
       "interactive(children=(Dropdown(description='x', options={'請選擇': '', '滿的': '你對目前的生活非常滿意。', '一半': '你的生活只有一半達到你的理…"
      ]
     },
     "metadata": {},
     "output_type": "display_data"
    },
    {
     "name": "stdout",
     "output_type": "stream",
     "text": [
      "你走出屋子，繼續向森林深處前進，你看見遠處有瀑布飛流直下，\n",
      "請問水流的速度是多少？\n",
      "請輸入1~10其中一個數字。\n",
      ">> 5\n",
      "中等水平的性欲\n",
      "\n",
      "你走過瀑布，並站在堅硬的地面上，你看見地上有金光閃爍，\n",
      "你彎腰拾起來，是一個帶著鑰匙的鑰匙鏈。有多少把鑰匙拴在上面？\n",
      "請輸入1~10其中一個數字。\n",
      ">> 6\n",
      "\n",
      "你繼續向前走，突然你發現眼前有一座城堡。\n",
      "這個城堡是什麼樣的？\n"
     ]
    },
    {
     "data": {
      "application/vnd.jupyter.widget-view+json": {
       "model_id": "81c25481f3ba4adfa64f0eb846c61198",
       "version_major": 2,
       "version_minor": 0
      },
      "text/plain": [
       "interactive(children=(Dropdown(description='x', options={'請選擇': '', '舊的': '在過去的交往中有一段不好的和不值得紀念的關係。', '新的': '在過…"
      ]
     },
     "metadata": {},
     "output_type": "display_data"
    },
    {
     "name": "stdout",
     "output_type": "stream",
     "text": [
      "在這個黑暗的游泳池旁邊還有一座游泳池。\n",
      "清澈的水面上飄浮著很多枚錢幣。你會撿起這些錢幣嗎？\n"
     ]
    },
    {
     "data": {
      "application/vnd.jupyter.widget-view+json": {
       "model_id": "5a48955ebd3d428c914fbd357cc1204a",
       "version_major": 2,
       "version_minor": 0
      },
      "text/plain": [
       "interactive(children=(Dropdown(description='x', options={'請選擇': '', '是': '當你的伴侶不在你身邊，你會和周圍的人調情。', '否': '當你的伴侶不…"
      ]
     },
     "metadata": {},
     "output_type": "display_data"
    },
    {
     "name": "stdout",
     "output_type": "stream",
     "text": [
      "你走到城堡的盡頭有一個出口，你繼續向前走走出了城堡。\n",
      "在城堡外面，你看見一座大花園，你看見地面上有一個箱子。\n",
      "這個箱子是什麼材料做的？\n"
     ]
    },
    {
     "data": {
      "application/vnd.jupyter.widget-view+json": {
       "model_id": "6469a40dfeaf4c34ad02f684cdd61689",
       "version_major": 2,
       "version_minor": 0
      },
      "text/plain": [
       "interactive(children=(Dropdown(description='x', options={'請選擇': '', '厚紙板': '謙虛的性格', '木頭': '謙虛的性格', '金屬': '驕傲的性…"
      ]
     },
     "metadata": {},
     "output_type": "display_data"
    },
    {
     "name": "stdout",
     "output_type": "stream",
     "text": [
      "花園裡還有一座橋就在離著箱子的不遠處。\n",
      "橋是什麼材料建造的？\n"
     ]
    },
    {
     "data": {
      "application/vnd.jupyter.widget-view+json": {
       "model_id": "b24d9bb7aaa04d09b3600e6d19a246ac",
       "version_major": 2,
       "version_minor": 0
      },
      "text/plain": [
       "interactive(children=(Dropdown(description='x', options={'請選擇': '', '金屬': '和朋友有非常緊密的聯系', '木頭': '和朋友有比較緊密的聯系', …"
      ]
     },
     "metadata": {},
     "output_type": "display_data"
    },
    {
     "name": "stdout",
     "output_type": "stream",
     "text": [
      "走過這座橋，有一匹馬。馬是什麼顏色的？\n"
     ]
    },
    {
     "data": {
      "application/vnd.jupyter.widget-view+json": {
       "model_id": "806f9f524da74b2b9a99f58f34e0d1e0",
       "version_major": 2,
       "version_minor": 0
      },
      "text/plain": [
       "interactive(children=(Dropdown(description='x', options={'請選擇': '', '白': '你的伴侶在你心目中非常純潔而美好。', '灰': '你的伴侶在你心目中的…"
      ]
     },
     "metadata": {},
     "output_type": "display_data"
    },
    {
     "name": "stdout",
     "output_type": "stream",
     "text": [
      "哦，不！離馬很近的地方突然刮起了一陣龍捲風。\n",
      "你會做什麼選擇？\n"
     ]
    },
    {
     "data": {
      "application/vnd.jupyter.widget-view+json": {
       "model_id": "b4baf05ba2114f1e993ed30c6001b749",
       "version_major": 2,
       "version_minor": 0
      },
      "text/plain": [
       "interactive(children=(Dropdown(description='x', options={'請選擇': '', '藏在箱子裡': '遇到麻煩你都會自己解決。', '藏在橋底下': '遇到麻煩你都找…"
      ]
     },
     "metadata": {},
     "output_type": "display_data"
    },
    {
     "data": {
      "text/plain": [
       "<function __main__.m(x)>"
      ]
     },
     "execution_count": 1,
     "metadata": {},
     "output_type": "execute_result"
    }
   ],
   "source": [
    "spam = ('以下是個心理測驗。'+'\\n'+'請根據直覺回答以下的問題。')\n",
    "print(spam)\n",
    "from ipywidgets import interact\n",
    "\n",
    "#1\n",
    "def f(x):\n",
    "    print(x)\n",
    "spam1 = ('你在森林的深處，你向前走，看見前面有一座很舊的小屋。'+'\\n'+'這個小屋的門現在是什麼狀態？。')\n",
    "print(spam1)\n",
    "interact(f, x={'請選擇':'', '開著':'你是願與別人分享任何事的人。', '關著':'你是一個任何事都願一個人去做的人。'})\n",
    "\n",
    "\n",
    "#2\n",
    "def g(x):\n",
    "    print(x)\n",
    "spam2 = ('你走進屋子裡看見桌上有個花瓶，瓶子裡有水，有多少水在花瓶裡？')\n",
    "print(spam2)\n",
    "interact(g, x={'請選擇':'', '滿的':'你對目前的生活非常滿意。', '一半':'你的生活只有一半達到你的理想。', '空的':'你目前的生活很不滿意。'})\n",
    "\n",
    "\n",
    "#3\n",
    "spam3 = ('你走出屋子，繼續向森林深處前進，你看見遠處有瀑布飛流直下，'+'\\n'+'請問水流的速度是多少？'+'\\n'+'請輸入1~10其中一個數字。')\n",
    "print(spam3)\n",
    "\n",
    "eggs = input('>> ')\n",
    "if eggs == '0' :\n",
    "    print('你根本沒有性欲')\n",
    "elif eggs == '1' or eggs == '2' or eggs == '3' or eggs == '4' :\n",
    "    print('你的性欲很低')\n",
    "elif eggs == '5' or eggs == '6'  :\n",
    "     print('中等水平的性欲')\n",
    "elif eggs == '7' or eggs == '8' or eggs == '9' :\n",
    "    print('很強的性欲')        \n",
    "elif eggs == '10' :\n",
    "    print('生活裏沒有性根本不行。')\n",
    "else:\n",
    "    print('不要亂喔')\n",
    "    \n",
    "A=('')\n",
    "print(A)\n",
    "\n",
    "#4\n",
    "spam4 = ('你走過瀑布，並站在堅硬的地面上，你看見地上有金光閃爍，'+'\\n'+'你彎腰拾起來，是一個帶著鑰匙的鑰匙鏈。有多少把鑰匙拴在上面？'+'\\n'+'請輸入1~10其中一個數字。')\n",
    "print(spam4)\n",
    "egg = input('>> ')\n",
    "if egg == '1' :\n",
    "    print('你只有一個好朋友。')\n",
    "elif egg == '5' or eggs == '2' or eggs == '3' or eggs == '4' :\n",
    "    print('你有一些好朋友。')\n",
    "elif egg == '5' or eggs == '6'  :\n",
    "    print('中等水平的性欲')\n",
    "elif egg == '7' or eggs == '8' or eggs == '9' or eggs == '10' :\n",
    "    print('你有許多好朋友。')        \n",
    "A=('')\n",
    "print(A)\n",
    "    \n",
    "#5\n",
    "def h(x):\n",
    "    print(x)\n",
    "spam5 = ('你繼續向前走，突然你發現眼前有一座城堡。'+'\\n'+'這個城堡是什麼樣的？')\n",
    "print(spam5)\n",
    "interact(h, x={'請選擇':'', '舊的':'在過去的交往中有一段不好的和不值得紀念的關係。', '新的':'在過去的交往中有一段很好的交往現在仍然鮮活的駐留在你心裏。'})\n",
    "\n",
    "#6\n",
    "def i(x):\n",
    "    print(x)\n",
    "spam6 = ('在這個黑暗的游泳池旁邊還有一座游泳池。'+'\\n'+'清澈的水面上飄浮著很多枚錢幣。你會撿起這些錢幣嗎？')\n",
    "print(spam6)\n",
    "interact(i, x={'請選擇':'', '是':'當你的伴侶不在你身邊，你會和周圍的人調情。', '否':'當你的伴侶不在你身邊，你也會忠實於他/她，不和周圍的人調情。'})\n",
    "#7\n",
    "def j(x):\n",
    "    print(x)\n",
    "spam7 = ('你走到城堡的盡頭有一個出口，你繼續向前走走出了城堡。'+'\\n'+'在城堡外面，你看見一座大花園，你看見地面上有一個箱子。'+'\\n'+'這個箱子是什麼材料做的？')\n",
    "print(spam7)\n",
    "interact(j, x={'請選擇':'', '厚紙板':'謙虛的性格', '木頭':'謙虛的性格', '金屬':'驕傲的性格'})\n",
    "\n",
    " \n",
    "#8    \n",
    "def k(x):\n",
    "    print(x)\n",
    "spam8 = ('花園裡還有一座橋就在離著箱子的不遠處。'+'\\n'+'橋是什麼材料建造的？')\n",
    "print(spam8)\n",
    "interact(k, x={'請選擇':'', '金屬':'和朋友有非常緊密的聯系', '木頭':'和朋友有比較緊密的聯系', '藤蔓':'周圍沒有很好的朋友'})\n",
    "\n",
    "\n",
    "#9\n",
    "def l(x):\n",
    "    print(x)\n",
    "spam9 = ('走過這座橋，有一匹馬。馬是什麼顏色的？')\n",
    "print(spam9)\n",
    "interact(l, x={'請選擇':'', '白':'你的伴侶在你心目中非常純潔而美好。', '灰':'你的伴侶在你心目中的位置一般。', '褐色':'你的伴侶在你心目中的位置一般。', '黑':'你的伴侶在你心目中好像根本不怎麽樣。'})\n",
    "\n",
    "#10\n",
    "def m(x):\n",
    "    print(x)\n",
    "spam10 = ('哦，不！離馬很近的地方突然刮起了一陣龍捲風。'+'\\n'+'你會做什麼選擇？')\n",
    "print(spam10)\n",
    "interact(m, x={'請選擇':'', '藏在箱子裡':'遇到麻煩你都會自己解決。', '藏在橋底下':'遇到麻煩你都找你的朋友一起解決。', '騎馬離開':'遇到麻煩你都找你的伴侶一起解決。'})"
   ]
  },
  {
   "cell_type": "code",
   "execution_count": null,
   "metadata": {},
   "outputs": [],
   "source": []
  }
 ],
 "metadata": {
  "kernelspec": {
   "display_name": "Python 3",
   "language": "python",
   "name": "python3"
  },
  "language_info": {
   "codemirror_mode": {
    "name": "ipython",
    "version": 3
   },
   "file_extension": ".py",
   "mimetype": "text/x-python",
   "name": "python",
   "nbconvert_exporter": "python",
   "pygments_lexer": "ipython3",
   "version": "3.7.0"
  }
 },
 "nbformat": 4,
 "nbformat_minor": 2
}
