{
 "cells": [
  {
   "cell_type": "markdown",
   "metadata": {},
   "source": [
    "男女犯罪率統計"
   ]
  },
  {
   "cell_type": "code",
   "execution_count": 19,
   "metadata": {},
   "outputs": [],
   "source": [
    "%matplotlib inline\n",
    "import numpy as np\n",
    "import matplotlib.pyplot as plt\n",
    "import pandas as pd\n",
    "from numpy import mean, std, sqrt"
   ]
  },
  {
   "cell_type": "code",
   "execution_count": 35,
   "metadata": {},
   "outputs": [
    {
     "name": "stdout",
     "output_type": "stream",
     "text": [
      "歷年男生犯罪人數平均 198167.0\n",
      "歷年女生犯罪人數平均 41325.52631578947\n",
      "H0:歷年男女犯罪人數相同\n",
      "HA:歷年男女犯罪人數有顯著差異\n",
      "za= 1.645\n",
      "z= 20.37168023853904\n",
      "拒絕虛無假設，歷年男女犯罪人數有顯著差距，男多於女\n"
     ]
    }
   ],
   "source": [
    "male=np.array([155891,155226,155666,134394,150376,173286,189495,221006,225335,214583,219709,212981,213949,209222,214701,221904,224383,235388,237678])\n",
    "female=np.array([25723,25301,30085,24293,26599,34139,39698,44854,45851,47390,49631,47375,48109,46088,46902,47392,48434,51906,55415])\n",
    "Amale=mean(male)\n",
    "Afemale=mean(female)\n",
    "print('歷年男生犯罪人數平均', Amale)\n",
    "print('歷年女生犯罪人數平均', Afemale)\n",
    "stdm=std(male)\n",
    "stdfem=std(female)\n",
    "n=len(male)\n",
    "\n",
    "#設定虛無假設\n",
    "print('H0:歷年男女犯罪人數相同')\n",
    "print('HA:歷年男女犯罪人數有顯著差異')\n",
    "z=(Amale-Afemale)/sqrt(stdm**2/n+stdfem**2/n)\n",
    "za=1.645\n",
    "print('za=', za)\n",
    "print('z=', z)\n",
    "if z>za:\n",
    "    print('拒絕虛無假設，歷年男女犯罪人數有顯著差距，男多於女')\n",
    "else:\n",
    "    print('接受虛無假設，歷年男女犯罪人數無顯著差距')"
   ]
  },
  {
   "cell_type": "code",
   "execution_count": null,
   "metadata": {},
   "outputs": [],
   "source": []
  }
 ],
 "metadata": {
  "kernelspec": {
   "display_name": "Python 3",
   "language": "python",
   "name": "python3"
  },
  "language_info": {
   "codemirror_mode": {
    "name": "ipython",
    "version": 3
   },
   "file_extension": ".py",
   "mimetype": "text/x-python",
   "name": "python",
   "nbconvert_exporter": "python",
   "pygments_lexer": "ipython3",
   "version": "3.7.0"
  }
 },
 "nbformat": 4,
 "nbformat_minor": 2
}
