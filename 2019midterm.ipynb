{
 "cells": [
  {
   "cell_type": "markdown",
   "metadata": {},
   "source": [
    "# 期中專題--肥胖率的城鄉差距\n"
   ]
  },
  {
   "cell_type": "markdown",
   "metadata": {},
   "source": [
    "動機：\n",
    "\n",
    "世界衛生組織指出，肥胖是一種慢性病，且會提高個體高血壓、糖尿病等慢性病發生率，甚至是降低壽命，為不可忽視的國民健康議題。而肥胖的成因多與生活習慣和運動習慣有關。而不同的縣市因為生活環境不同，其生活型態也不盡相同，而導致肥胖率會有區域性差異；例如都市地區多以上班族為主，長期久坐不運動、常常聚餐可能會造成肥胖，或是大眾交通運輸不便，長期以汽機車代步的偏鄉地區之肥胖率也可能比有捷運的都市高。因此在這次的專題，想要透過地圖和回歸分析，去查看不同縣市的肥胖率是否也有差距？並且去分析造成肥胖率差距的可能原因為何？"
   ]
  },
  {
   "cell_type": "markdown",
   "metadata": {},
   "source": [
    "資料來源：\n",
    "衛生福利部國民健康署\n",
    "中華民國統計資訊網\n",
    "政府開放資料平台"
   ]
  },
  {
   "cell_type": "code",
   "execution_count": 1,
   "metadata": {},
   "outputs": [],
   "source": [
    "\n",
    "%matplotlib inline\n",
    "import numpy as np \n",
    "import matplotlib.pyplot as plt\n",
    "import pandas as pd\n",
    "import requests\n",
    "import matplotlib as mpl      #在 matplotlib 中顯示中文\n",
    "import matplotlib\n",
    "matplotlib.matplotlib_fname()\n",
    "mpl.rc('font', family='DejaVu Sans')\n",
    "plt.rcParams['font.sans-serif'] = ['DejaVu Sans']\n",
    "from sklearn.linear_model import LinearRegression            #線性迴歸\n",
    "#地圖\n",
    "import geopandas as gp\n"
   ]
  },
  {
   "cell_type": "markdown",
   "metadata": {},
   "source": [
    "## 縣市肥胖地圖和運動地圖\n",
    "\n",
    "從這些肥胖地圖分佈來看，可以發現：肥胖率也有城鄉差距。鄉村地區的人（尤其是花東地區）相較於都市的人（ex:六都）肥胖率較高。這是滿意外的結果，畢竟我們通常會認為都市人久坐缺乏運動，或是常常仰賴外食，體態應該會比較差，但結果恰恰相反。\n",
    "\n",
    "而肥胖可能跟缺乏運動習慣有關係，因此我們做了縣市成人每天運動時間地圖。從地圖上來看，運動時數最多的是大台北地區的人，其次是台中人。這不太意外，畢竟這些地方大眾交通運輸發達，人們在搭乘大眾交通運輸的時候本來就會比以汽機車代步的人多走路。而運動時數少的地區分佈在雲嘉南，嘉義縣市全台運動時數最少的地方，這好像也解釋得通，畢竟我們是騎小綿羊的遊牧民族嘛（？\n",
    "\n",
    "＊肥胖定義：BMI>27\n",
    "\n",
    "＊運動時間是衛生福利部國民健康署經過抽樣調查得來，其運動的定義較廣泛，包括通勤走路、搬運重物等強度較輕的活動。"
   ]
  },
  {
   "cell_type": "code",
   "execution_count": 2,
   "metadata": {},
   "outputs": [
    {
     "data": {
      "text/html": [
       "<div>\n",
       "<style scoped>\n",
       "    .dataframe tbody tr th:only-of-type {\n",
       "        vertical-align: middle;\n",
       "    }\n",
       "\n",
       "    .dataframe tbody tr th {\n",
       "        vertical-align: top;\n",
       "    }\n",
       "\n",
       "    .dataframe thead th {\n",
       "        text-align: right;\n",
       "    }\n",
       "</style>\n",
       "<table border=\"1\" class=\"dataframe\">\n",
       "  <thead>\n",
       "    <tr style=\"text-align: right;\">\n",
       "      <th></th>\n",
       "      <th>COUNTYID</th>\n",
       "      <th>COUNTYCODE</th>\n",
       "      <th>COUNTYNAME</th>\n",
       "      <th>geometry</th>\n",
       "      <th>依縣市別分by county</th>\n",
       "      <th>有效樣本數Sample Size</th>\n",
       "      <th>男Male (%)</th>\n",
       "      <th>女Female (%)</th>\n",
       "      <th>不分性別Both (%)</th>\n",
       "      <th>平均每天運動時間</th>\n",
       "      <th>65 歲以上老人一週運動比率(%)</th>\n",
       "    </tr>\n",
       "    <tr>\n",
       "      <th>COUNTYENG</th>\n",
       "      <th></th>\n",
       "      <th></th>\n",
       "      <th></th>\n",
       "      <th></th>\n",
       "      <th></th>\n",
       "      <th></th>\n",
       "      <th></th>\n",
       "      <th></th>\n",
       "      <th></th>\n",
       "      <th></th>\n",
       "      <th></th>\n",
       "    </tr>\n",
       "  </thead>\n",
       "  <tbody>\n",
       "    <tr>\n",
       "      <th>Lienchiang County</th>\n",
       "      <td>Z</td>\n",
       "      <td>09007</td>\n",
       "      <td>é£æ±ç¸£</td>\n",
       "      <td>(POLYGON ((119.9644519140001 25.94552317400007...</td>\n",
       "      <td>0</td>\n",
       "      <td>0</td>\n",
       "      <td>0.00</td>\n",
       "      <td>0.00</td>\n",
       "      <td>0.00</td>\n",
       "      <td>0.00</td>\n",
       "      <td>0.0</td>\n",
       "    </tr>\n",
       "    <tr>\n",
       "      <th>Yilan County</th>\n",
       "      <td>G</td>\n",
       "      <td>10002</td>\n",
       "      <td>å®è­ç¸£</td>\n",
       "      <td>(POLYGON ((121.9597084550001 24.84493697000005...</td>\n",
       "      <td>宜蘭縣</td>\n",
       "      <td>962</td>\n",
       "      <td>47.65</td>\n",
       "      <td>34.21</td>\n",
       "      <td>41.10</td>\n",
       "      <td>0.91</td>\n",
       "      <td>56.5</td>\n",
       "    </tr>\n",
       "    <tr>\n",
       "      <th>Changhua County</th>\n",
       "      <td>N</td>\n",
       "      <td>10007</td>\n",
       "      <td>å½°åç¸£</td>\n",
       "      <td>POLYGON ((120.4565526600001 24.20718620500008,...</td>\n",
       "      <td>彰化縣</td>\n",
       "      <td>966</td>\n",
       "      <td>48.77</td>\n",
       "      <td>32.33</td>\n",
       "      <td>40.69</td>\n",
       "      <td>0.90</td>\n",
       "      <td>45.8</td>\n",
       "    </tr>\n",
       "    <tr>\n",
       "      <th>Nantou County</th>\n",
       "      <td>M</td>\n",
       "      <td>10008</td>\n",
       "      <td>åæç¸£</td>\n",
       "      <td>POLYGON ((121.2708644380001 24.23660985400005,...</td>\n",
       "      <td>南投縣</td>\n",
       "      <td>991</td>\n",
       "      <td>47.47</td>\n",
       "      <td>32.27</td>\n",
       "      <td>40.18</td>\n",
       "      <td>1.00</td>\n",
       "      <td>49.7</td>\n",
       "    </tr>\n",
       "    <tr>\n",
       "      <th>Yunlin County</th>\n",
       "      <td>P</td>\n",
       "      <td>10009</td>\n",
       "      <td>é²æç¸£</td>\n",
       "      <td>(POLYGON ((120.081077282 23.52412216400006, 12...</td>\n",
       "      <td>雲林縣</td>\n",
       "      <td>946</td>\n",
       "      <td>54.42</td>\n",
       "      <td>30.59</td>\n",
       "      <td>43.46</td>\n",
       "      <td>0.87</td>\n",
       "      <td>37.0</td>\n",
       "    </tr>\n",
       "  </tbody>\n",
       "</table>\n",
       "</div>"
      ],
      "text/plain": [
       "                  COUNTYID COUNTYCODE COUNTYNAME  \\\n",
       "COUNTYENG                                          \n",
       "Lienchiang County        Z      09007  é£æ±ç¸£   \n",
       "Yilan County             G      10002  å®è­ç¸£   \n",
       "Changhua County          N      10007  å½°åç¸£   \n",
       "Nantou County            M      10008  åæç¸£   \n",
       "Yunlin County            P      10009  é²æç¸£   \n",
       "\n",
       "                                                            geometry  \\\n",
       "COUNTYENG                                                              \n",
       "Lienchiang County  (POLYGON ((119.9644519140001 25.94552317400007...   \n",
       "Yilan County       (POLYGON ((121.9597084550001 24.84493697000005...   \n",
       "Changhua County    POLYGON ((120.4565526600001 24.20718620500008,...   \n",
       "Nantou County      POLYGON ((121.2708644380001 24.23660985400005,...   \n",
       "Yunlin County      (POLYGON ((120.081077282 23.52412216400006, 12...   \n",
       "\n",
       "                  依縣市別分by county 有效樣本數Sample Size  男Male (%)  女Female (%)  \\\n",
       "COUNTYENG                                                                   \n",
       "Lienchiang County              0                0       0.00         0.00   \n",
       "Yilan County                 宜蘭縣              962      47.65        34.21   \n",
       "Changhua County              彰化縣              966      48.77        32.33   \n",
       "Nantou County                南投縣              991      47.47        32.27   \n",
       "Yunlin County                雲林縣              946      54.42        30.59   \n",
       "\n",
       "                   不分性別Both (%)  平均每天運動時間  65 歲以上老人一週運動比率(%)  \n",
       "COUNTYENG                                                     \n",
       "Lienchiang County          0.00      0.00                0.0  \n",
       "Yilan County              41.10      0.91               56.5  \n",
       "Changhua County           40.69      0.90               45.8  \n",
       "Nantou County             40.18      1.00               49.7  \n",
       "Yunlin County             43.46      0.87               37.0  "
      ]
     },
     "execution_count": 2,
     "metadata": {},
     "output_type": "execute_result"
    }
   ],
   "source": [
    "df = pd.read_csv('fat.csv')\n",
    "fat = df.iloc[0:20,5]  \n",
    "exer = df.iloc[0:20,6]  \n",
    "exer1 = df.iloc[0:20,7]  \n",
    "county_shp = gp.read_file('./mapdata201805310314/COUNTY_MOI_1070516.shp')\n",
    "left = county_shp.set_index('COUNTYENG')                   #left: map frame\n",
    "right = df.set_index('依縣市別分by county.1')                  #right: datas\n",
    "joint_shp = left.join(right)                                            #joint two tables\n",
    "joint_shp = joint_shp.fillna(0)                                      # NA-->0\n",
    "joint_shp.head()\n"
   ]
  },
  {
   "cell_type": "code",
   "execution_count": 3,
   "metadata": {},
   "outputs": [
    {
     "data": {
      "text/plain": [
       "(21.5, 25.5)"
      ]
     },
     "execution_count": 3,
     "metadata": {},
     "output_type": "execute_result"
    },
    {
     "data": {
      "image/png": "[encoded data removed]",
      "text/plain": [
       "<Figure size 432x288 with 1 Axes>"
      ]
     },
     "metadata": {
      "needs_background": "light"
     },
     "output_type": "display_data"
    },
    {
     "data": {
      "image/png": "[encoded data removed]",
      "text/plain": [
       "<Figure size 432x288 with 1 Axes>"
      ]
     },
     "metadata": {
      "needs_background": "light"
     },
     "output_type": "display_data"
    }
   ],
   "source": [
    "# Obesity rate (%)\n",
    "joint_shp.plot(column='不分性別Both (%)', cmap='RdBu')    \n",
    "plt.title('Obesity rate (%)')                    #深色＝肥胖比率高\n",
    "plt.xlim((119.7, 122.2))\n",
    "plt.ylim((21.5, 25.5))\n",
    "\n",
    "\n",
    "# 成人平均每天運動時間\n",
    "joint_shp.plot(column='平均每天運動時間', cmap='RdBu')   \n",
    "plt.title('Average exercise time (hr)')                    #深色＝運動時間長\n",
    "plt.xlim((119.7, 122.2))\n",
    "plt.ylim((21.5, 25.5))"
   ]
  },
  {
   "cell_type": "markdown",
   "metadata": {},
   "source": [
    "## 肥胖率和運動的回歸分析"
   ]
  },
  {
   "cell_type": "code",
   "execution_count": 4,
   "metadata": {},
   "outputs": [
    {
     "name": "stdout",
     "output_type": "stream",
     "text": [
      "a= [[-23.86664119]]\n",
      "b= [63.9382757]\n",
      "R2= 0.24143048444081416\n",
      "a= [[-0.24508196]]\n",
      "b= [54.31324575]\n",
      "R2= 0.2819113910680002\n"
     ]
    },
    {
     "data": {
      "text/plain": [
       "Text(0,0.5,'Obesity rate(%)')"
      ]
     },
     "execution_count": 4,
     "metadata": {},
     "output_type": "execute_result"
    },
    {
     "data": {
      "image/png": "[encoded data removed]",
      "text/plain": [
       "<Figure size 864x576 with 2 Axes>"
      ]
     },
     "metadata": {
      "needs_background": "light"
     },
     "output_type": "display_data"
    }
   ],
   "source": [
    "plt.figure(figsize=(12, 8))\n",
    "plt.subplot(2,2,1)\n",
    "###平均每天運動時間與肥胖率回歸\n",
    "plt.scatter(exer, fat)\n",
    "x=np.array(exer)\n",
    "y=np.array(fat)\n",
    "X = x.reshape(len(x), 1)\n",
    "Y = y.reshape(len(y), 1)\n",
    "regr = LinearRegression()                \n",
    "regr.fit(X, Y)\n",
    "print('a=', regr.coef_)                   #印出斜率\n",
    "print('b=', regr.intercept_ )            #印出截距\n",
    "print('R2=', regr.score(X,Y) )            #印出判定係數\n",
    "Y_lin = regr.predict(X)\n",
    "plt.plot(x, Y_lin, 'r')\n",
    "plt.xlabel('Average exercise time (hr)')\n",
    "plt.ylabel('Obesity rate(%)')\n",
    "\n",
    "\n",
    "plt.subplot(2,2,2)\n",
    "###平均每天運動時間與肥胖率回歸\n",
    "plt.scatter(exer1, fat)\n",
    "x=np.array(exer1)\n",
    "y=np.array(fat)\n",
    "X = x.reshape(len(x), 1)\n",
    "Y = y.reshape(len(y), 1)\n",
    "regr = LinearRegression()                \n",
    "regr.fit(X, Y)\n",
    "print('a=', regr.coef_)                   #印出斜率\n",
    "print('b=', regr.intercept_ )            #印出截距\n",
    "print('R2=', regr.score(X,Y) )            #印出判定係數\n",
    "Y_lin = regr.predict(X)\n",
    "plt.plot(x, Y_lin, 'r')\n",
    "plt.xlabel('Exercise rate per week for the older (%)')\n",
    "plt.ylabel('Obesity rate(%)')"
   ]
  },
  {
   "cell_type": "markdown",
   "metadata": {},
   "source": [
    "但問題來了，經過迴歸分析後，可發現運動時間和肥胖雖呈負相關，但似乎相關不高(R^2=0.24)。\n",
    "而且雲嘉南的運動時數少於花東，但花東的肥胖率卻是居全台之首。這是為什麼呢？"
   ]
  },
  {
   "cell_type": "markdown",
   "metadata": {},
   "source": [
    "## 不同縣市所得與肥胖比率之間的關係\n",
    "由於肥胖率高的地區大多分佈在偏鄉地區（例如花東、嘉義、南投等），而這些地方也是經濟收入較不好的地方，因此本文又製作了縣市所得地圖，想觀察縣市之間的經濟程度是否與肥胖率有關？"
   ]
  },
  {
   "cell_type": "code",
   "execution_count": 25,
   "metadata": {},
   "outputs": [
    {
     "data": {
      "text/html": [
       "<div>\n",
       "<style scoped>\n",
       "    .dataframe tbody tr th:only-of-type {\n",
       "        vertical-align: middle;\n",
       "    }\n",
       "\n",
       "    .dataframe tbody tr th {\n",
       "        vertical-align: top;\n",
       "    }\n",
       "\n",
       "    .dataframe thead th {\n",
       "        text-align: right;\n",
       "    }\n",
       "</style>\n",
       "<table border=\"1\" class=\"dataframe\">\n",
       "  <thead>\n",
       "    <tr style=\"text-align: right;\">\n",
       "      <th></th>\n",
       "      <th>COUNTYID</th>\n",
       "      <th>COUNTYCODE</th>\n",
       "      <th>COUNTYNAME</th>\n",
       "      <th>geometry</th>\n",
       "      <th>依縣市別分by county</th>\n",
       "      <th>有效樣本數Sample Size</th>\n",
       "      <th>男Male (%)</th>\n",
       "      <th>女Female (%)</th>\n",
       "      <th>不分性別Both (%)</th>\n",
       "      <th>平均每天運動時間</th>\n",
       "      <th>65 歲以上老人一週運動比率(%)</th>\n",
       "      <th>平均每戶全年經常性收入</th>\n",
       "      <th>Average Disposable Income</th>\n",
       "      <th>Median Disposable Income</th>\n",
       "    </tr>\n",
       "    <tr>\n",
       "      <th>COUNTYENG</th>\n",
       "      <th></th>\n",
       "      <th></th>\n",
       "      <th></th>\n",
       "      <th></th>\n",
       "      <th></th>\n",
       "      <th></th>\n",
       "      <th></th>\n",
       "      <th></th>\n",
       "      <th></th>\n",
       "      <th></th>\n",
       "      <th></th>\n",
       "      <th></th>\n",
       "      <th></th>\n",
       "      <th></th>\n",
       "    </tr>\n",
       "  </thead>\n",
       "  <tbody>\n",
       "    <tr>\n",
       "      <th>Lienchiang County</th>\n",
       "      <td>Z</td>\n",
       "      <td>09007</td>\n",
       "      <td>é£æ±ç¸£</td>\n",
       "      <td>(POLYGON ((119.9644519140001 25.94552317400007...</td>\n",
       "      <td>0</td>\n",
       "      <td>0</td>\n",
       "      <td>0.00</td>\n",
       "      <td>0.00</td>\n",
       "      <td>0.00</td>\n",
       "      <td>0.00</td>\n",
       "      <td>0.0</td>\n",
       "      <td>0.0</td>\n",
       "      <td>0.0</td>\n",
       "      <td>0.0</td>\n",
       "    </tr>\n",
       "    <tr>\n",
       "      <th>Yilan County</th>\n",
       "      <td>G</td>\n",
       "      <td>10002</td>\n",
       "      <td>å®è­ç¸£</td>\n",
       "      <td>(POLYGON ((121.9597084550001 24.84493697000005...</td>\n",
       "      <td>宜蘭縣</td>\n",
       "      <td>962</td>\n",
       "      <td>47.65</td>\n",
       "      <td>34.21</td>\n",
       "      <td>41.10</td>\n",
       "      <td>0.91</td>\n",
       "      <td>56.5</td>\n",
       "      <td>1116452.0</td>\n",
       "      <td>906825.0</td>\n",
       "      <td>761876.0</td>\n",
       "    </tr>\n",
       "    <tr>\n",
       "      <th>Changhua County</th>\n",
       "      <td>N</td>\n",
       "      <td>10007</td>\n",
       "      <td>å½°åç¸£</td>\n",
       "      <td>POLYGON ((120.4565526600001 24.20718620500008,...</td>\n",
       "      <td>彰化縣</td>\n",
       "      <td>966</td>\n",
       "      <td>48.77</td>\n",
       "      <td>32.33</td>\n",
       "      <td>40.69</td>\n",
       "      <td>0.90</td>\n",
       "      <td>45.8</td>\n",
       "      <td>1027431.0</td>\n",
       "      <td>838103.0</td>\n",
       "      <td>713043.0</td>\n",
       "    </tr>\n",
       "    <tr>\n",
       "      <th>Nantou County</th>\n",
       "      <td>M</td>\n",
       "      <td>10008</td>\n",
       "      <td>åæç¸£</td>\n",
       "      <td>POLYGON ((121.2708644380001 24.23660985400005,...</td>\n",
       "      <td>南投縣</td>\n",
       "      <td>991</td>\n",
       "      <td>47.47</td>\n",
       "      <td>32.27</td>\n",
       "      <td>40.18</td>\n",
       "      <td>1.00</td>\n",
       "      <td>49.7</td>\n",
       "      <td>945572.0</td>\n",
       "      <td>775270.0</td>\n",
       "      <td>632100.0</td>\n",
       "    </tr>\n",
       "    <tr>\n",
       "      <th>Yunlin County</th>\n",
       "      <td>P</td>\n",
       "      <td>10009</td>\n",
       "      <td>é²æç¸£</td>\n",
       "      <td>(POLYGON ((120.081077282 23.52412216400006, 12...</td>\n",
       "      <td>雲林縣</td>\n",
       "      <td>946</td>\n",
       "      <td>54.42</td>\n",
       "      <td>30.59</td>\n",
       "      <td>43.46</td>\n",
       "      <td>0.87</td>\n",
       "      <td>37.0</td>\n",
       "      <td>924616.0</td>\n",
       "      <td>753126.0</td>\n",
       "      <td>625613.0</td>\n",
       "    </tr>\n",
       "  </tbody>\n",
       "</table>\n",
       "</div>"
      ],
      "text/plain": [
       "                  COUNTYID COUNTYCODE COUNTYNAME  \\\n",
       "COUNTYENG                                          \n",
       "Lienchiang County        Z      09007  é£æ±ç¸£   \n",
       "Yilan County             G      10002  å®è­ç¸£   \n",
       "Changhua County          N      10007  å½°åç¸£   \n",
       "Nantou County            M      10008  åæç¸£   \n",
       "Yunlin County            P      10009  é²æç¸£   \n",
       "\n",
       "                                                            geometry  \\\n",
       "COUNTYENG                                                              \n",
       "Lienchiang County  (POLYGON ((119.9644519140001 25.94552317400007...   \n",
       "Yilan County       (POLYGON ((121.9597084550001 24.84493697000005...   \n",
       "Changhua County    POLYGON ((120.4565526600001 24.20718620500008,...   \n",
       "Nantou County      POLYGON ((121.2708644380001 24.23660985400005,...   \n",
       "Yunlin County      (POLYGON ((120.081077282 23.52412216400006, 12...   \n",
       "\n",
       "                  依縣市別分by county 有效樣本數Sample Size  男Male (%)  女Female (%)  \\\n",
       "COUNTYENG                                                                   \n",
       "Lienchiang County              0                0       0.00         0.00   \n",
       "Yilan County                 宜蘭縣              962      47.65        34.21   \n",
       "Changhua County              彰化縣              966      48.77        32.33   \n",
       "Nantou County                南投縣              991      47.47        32.27   \n",
       "Yunlin County                雲林縣              946      54.42        30.59   \n",
       "\n",
       "                   不分性別Both (%)  平均每天運動時間  65 歲以上老人一週運動比率(%)  平均每戶全年經常性收入  \\\n",
       "COUNTYENG                                                                   \n",
       "Lienchiang County          0.00      0.00                0.0          0.0   \n",
       "Yilan County              41.10      0.91               56.5    1116452.0   \n",
       "Changhua County           40.69      0.90               45.8    1027431.0   \n",
       "Nantou County             40.18      1.00               49.7     945572.0   \n",
       "Yunlin County             43.46      0.87               37.0     924616.0   \n",
       "\n",
       "                   Average Disposable Income  Median Disposable Income  \n",
       "COUNTYENG                                                               \n",
       "Lienchiang County                        0.0                       0.0  \n",
       "Yilan County                        906825.0                  761876.0  \n",
       "Changhua County                     838103.0                  713043.0  \n",
       "Nantou County                       775270.0                  632100.0  \n",
       "Yunlin County                       753126.0                  625613.0  "
      ]
     },
     "execution_count": 25,
     "metadata": {},
     "output_type": "execute_result"
    }
   ],
   "source": [
    "df3 = pd.read_csv('economy.csv')\n",
    "df4 = df3.iloc[0:20,1:5]    \n",
    "df4.head()\n",
    "eco = df4.iloc[0:20,2]      \n",
    "eco2 = df4.iloc[0:20,3]      \n",
    "eco\n",
    "\n",
    "\n",
    "county_shp = gp.read_file('./mapdata201805310314/COUNTY_MOI_1070516.shp')\n",
    "left = county_shp.set_index('COUNTYENG')                   #left: map frame\n",
    "right = df.set_index('依縣市別分by county.1')                  #right: datas\n",
    "joint_shp = left.join(right) \n",
    "\n",
    "right2 = df4.set_index('縣市別En')  \n",
    "joint_shp = joint_shp.join(right2)                                            #joint two tables\n",
    "joint_shp = joint_shp.fillna(0)                                      # NA-->0\n",
    "joint_shp.head()\n"
   ]
  },
  {
   "cell_type": "code",
   "execution_count": 28,
   "metadata": {},
   "outputs": [
    {
     "data": {
      "text/plain": [
       "(21.5, 25.5)"
      ]
     },
     "execution_count": 28,
     "metadata": {},
     "output_type": "execute_result"
    },
    {
     "data": {
      "image/png": "[encoded data removed]",
      "text/plain": [
       "<Figure size 432x288 with 1 Axes>"
      ]
     },
     "metadata": {
      "needs_background": "light"
     },
     "output_type": "display_data"
    },
    {
     "data": {
      "image/png": "[encoded data removed]",
      "text/plain": [
       "<Figure size 432x288 with 1 Axes>"
      ]
     },
     "metadata": {
      "needs_background": "light"
     },
     "output_type": "display_data"
    }
   ],
   "source": [
    "# 每戶可支配所得中位數\n",
    "joint_shp.plot(column='Average Disposable Income', cmap='RdBu') \n",
    "plt.title('Average Disposable Income')                    #深色＝運動時間長\n",
    "plt.xlim((119.7, 122.2))\n",
    "plt.ylim((21.5, 25.5))\n",
    "\n",
    "# 家庭收支-平均每戶可支配所得\n",
    "joint_shp.plot(column='Median Disposable Income', cmap='RdBu')    \n",
    "plt.title('Median Disposable Income')                    #深色＝肥胖比率高\n",
    "plt.xlim((119.7, 122.2))\n",
    "plt.ylim((21.5, 25.5))"
   ]
  },
  {
   "cell_type": "markdown",
   "metadata": {},
   "source": [
    "從縣市所得地圖來看，我們就能發現花東地區的家庭可支配所得中位數是全台最低的。而肥胖率偏高的嘉義縣和南投縣，其家庭可支配所得中位數也是偏低。"
   ]
  },
  {
   "cell_type": "markdown",
   "metadata": {},
   "source": [
    "## 肥胖率和運動的回歸分析"
   ]
  },
  {
   "cell_type": "code",
   "execution_count": 29,
   "metadata": {},
   "outputs": [
    {
     "name": "stdout",
     "output_type": "stream",
     "text": [
      "a= [[-1.5739063e-05]]\n",
      "b= [55.76456448]\n",
      "R2= 0.5256036221026579\n",
      "a= [[-1.64063255e-05]]\n",
      "b= [54.23180701]\n",
      "R2= 0.5316483871639177\n"
     ]
    },
    {
     "data": {
      "text/plain": [
       "Text(0,0.5,'Obesity rate(%)')"
      ]
     },
     "execution_count": 29,
     "metadata": {},
     "output_type": "execute_result"
    },
    {
     "data": {
      "image/png": "[encoded data removed]",
      "text/plain": [
       "<Figure size 1080x576 with 2 Axes>"
      ]
     },
     "metadata": {
      "needs_background": "light"
     },
     "output_type": "display_data"
    }
   ],
   "source": [
    "\n",
    "plt.figure(figsize=(15, 8))\n",
    "plt.subplot(2,2,1)\n",
    "###家庭平均可支配所得與肥胖率回歸\n",
    "plt.scatter(eco, fat)\n",
    "x=np.array(eco)\n",
    "y=np.array(fat)\n",
    "X = x.reshape(len(x), 1)\n",
    "Y = y.reshape(len(y), 1)\n",
    "regr = LinearRegression()                \n",
    "regr.fit(X, Y)\n",
    "print('a=', regr.coef_)                   #印出斜率\n",
    "print('b=', regr.intercept_ )            #印出截距\n",
    "print('R2=', regr.score(X,Y) )            #印出判定係數\n",
    "Y_lin = regr.predict(X)\n",
    "plt.plot(x, Y_lin, 'r')\n",
    "plt.xlabel('Average Disposable Income')\n",
    "plt.ylabel('Obesity rate(%)')\n",
    "\n",
    "plt.subplot(2,2,2)\n",
    "#家庭可支配所得中位數與肥胖率回歸\n",
    "plt.scatter(eco2, fat)\n",
    "x=np.array(eco2)\n",
    "y=np.array(fat)\n",
    "X = x.reshape(len(x), 1)\n",
    "Y = y.reshape(len(y), 1)\n",
    "regr = LinearRegression()                \n",
    "regr.fit(X, Y)\n",
    "print('a=', regr.coef_)                   #印出斜率\n",
    "print('b=', regr.intercept_ )            #印出截距\n",
    "print('R2=', regr.score(X,Y) )            #印出判定係數\n",
    "Y_lin = regr.predict(X)\n",
    "plt.plot(x, Y_lin, 'r')\n",
    "plt.xlabel('Median Disposable Income')\n",
    "plt.ylabel('Obesity rate(%)')"
   ]
  },
  {
   "cell_type": "markdown",
   "metadata": {},
   "source": [
    "回歸分析後，可以發現相較於運動時間，不同縣市的家庭可支配所得平均和家庭可支配所得中位數與肥胖率有更高的負相關性(R2=0.53, R=0.73)。收入較低的地區，往往有較高的肥胖率。\n",
    "而造成這樣的現象可能有幾種原因：首先，偏鄉地區收入較少，經濟負擔大，勞工多且工時長，加上連鎖生鮮超市不多，使得生活在這些地區的人較難購入較高價位的新鮮健康食材，或無暇顧及健康飲食，轉而食用快速、易飽足的速食以求飽食。但是熱量高又低價的食物通常不健康，常常是多糖、多油又多鹽（例如便宜的小吃、熱炒、便當、速食、鹽酥雞等）。因為貧富差距所養成的飲食習慣差異，很有可能才是造成肥胖率城鄉差距的主因。也就是說，肥胖並不單純是因為懶得動，有時候貧窮才是原罪。\n",
    "\n",
    "＊可支配所得為「實際收到的所得」（net pay）。\n",
    "\n",
    "＊資料來源：BMI也有城鄉差距？全國營養調查：台東最胖、台北最瘦...。關鍵評論網。 https://www.thenewslens.com/article/14716"
   ]
  },
  {
   "cell_type": "code",
   "execution_count": null,
   "metadata": {},
   "outputs": [],
   "source": []
  }
 ],
 "metadata": {
  "kernelspec": {
   "display_name": "Python 3",
   "language": "python",
   "name": "python3"
  },
  "language_info": {
   "codemirror_mode": {
    "name": "ipython",
    "version": 3
   },
   "file_extension": ".py",
   "mimetype": "text/x-python",
   "name": "python",
   "nbconvert_exporter": "python",
   "pygments_lexer": "ipython3",
   "version": "3.7.0"
  }
 },
 "nbformat": 4,
 "nbformat_minor": 2
}
